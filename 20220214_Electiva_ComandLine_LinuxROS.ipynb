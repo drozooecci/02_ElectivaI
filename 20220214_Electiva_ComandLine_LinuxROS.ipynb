{
 "cells": [
  {
   "cell_type": "markdown",
   "metadata": {},
   "source": [
    "# Electiva Técnica I - Introducción *Robot Operating System* (ROS1)\n",
    "\n",
    "### David Rozo Osorio, I.M, M.Sc."
   ]
  },
  {
   "cell_type": "markdown",
   "metadata": {},
   "source": [
    "## Introducción a Linux System\n",
    "\n",
    "- Objetivo: comprender el funcionamiento de un sistema operativo tipo Linux.\n",
    "\n",
    "\n",
    "- Procedimiento:\n",
    " 1. Características de la máquina virtual.\n",
    " 2. Introducción.\n",
    " 3. Características del S.O. - Gráfico.\n",
    " 4. Operaciones básicas con la Terminal."
   ]
  },
  {
   "cell_type": "markdown",
   "metadata": {},
   "source": [
    "### Características para una máquina virtual\n",
    "\n",
    "El proceso de instalación puede ser implementado de 2 formas:\n",
    "\n",
    "- **Instalación con arranque paralelo**. En el siguiente [link](https://www.youtube.com/watch?v=x1ykDpSzpKU) puede visualizar el proceso. Nota: este proceso debe ser desarrollado con cuidado porque en caso de que se presente algún incidentes puede perder toda la información que tenga en computador.\n",
    "- **Máquina virtual** [link descarga](https://www.virtualbox.org/). En el siguiente [link](https://www.youtube.com/watch?v=x5MhydijWmc) puede visualizar el proceso (recomendado). Configuración máquina virtual (óptimo) [mínimo]:\n",
    "  - Disco virtual 25GB o más. [15 GB].\n",
    "  - Memoria RAM 4 GB o más. [2 GB].\n",
    "  - CPU 2 o más. [1].\n",
    "  - Se requiere de una instalación completa (no de prueba).\n",
    "  - Se recomienda instalar la versión en Inglés de Ubuntu.\n",
    "  - Ubuntu 20.04 https://ubuntu.com/download/desktop"
   ]
  },
  {
   "cell_type": "markdown",
   "metadata": {},
   "source": [
    "<p style=\"page-break-after:always;\"></p>"
   ]
  },
  {
   "cell_type": "markdown",
   "metadata": {},
   "source": [
    "### Introducción Ubuntu\n",
    "\n",
    "Sistema Operativo basado en Unix, desarrollados como parte del Proyecto GNU.\n",
    "\n",
    "- Multitasking.\n",
    "- Multiusuario.\n",
    "- Software de uso libre y código abierto.\n",
    "- Distribuciones populares:\n",
    "  - Ubuntu\n",
    "  - Debian\n",
    "  - Fedora\n",
    "\n",
    "Ej. Android, utiliza un núcleo tipo Linux."
   ]
  },
  {
   "cell_type": "markdown",
   "metadata": {},
   "source": [
    "<img src=\"imag/ubuntuGUI.png\" width=400 height=400 />"
   ]
  },
  {
   "cell_type": "markdown",
   "metadata": {},
   "source": [
    "<img src=\"imag/ubuntuFileSystem.png\" width=400 height=400 />"
   ]
  },
  {
   "cell_type": "markdown",
   "metadata": {},
   "source": [
    "<img src=\"imag/ubuntuGUISoftware.png\" width=400 height=400 />"
   ]
  },
  {
   "cell_type": "markdown",
   "metadata": {},
   "source": [
    "### CommandLine \n",
    "\n",
    "- `ls`: List Directory\n",
    "  - `ls -a`: Extra parameter that shows all hidden elements in a folder.\n",
    "  - `ls --help`: Extra parameters that present all extensions. \n",
    "  \n",
    "- `cd`: Change Directory.\n",
    "  - `cd ..`: Change directory to the previous.\n",
    "  - `cd --`: Change to HOME directory.\n",
    "\n",
    "- `clear`: erase all content of the terminal window.\n",
    "- `pwd`: Current terminal path.\n",
    "- `mkdir`: Create a folder.\n",
    "- `rm`: Delete file.\n",
    "- `rmdir`: Delete folder.\n",
    "- `mv`: Move file.\n",
    "- `cp`: Copy file.\n",
    "- `wget`: Command to download files from the internet. \n",
    "- `sudo`: Run a command Admin Mode.\n",
    "- `apt-get`: Install Package Ubuntu.\n",
    "- `nano`: Text editor in terminal.\n",
    "- `sudo apt update`: update the Operating System.\n",
    "- `sudo apt upgrade`: erase older Operating System Files.\n",
    "\n",
    "Nota: `man`: Open a manual of a command.\n"
   ]
  },
  {
   "cell_type": "markdown",
   "metadata": {},
   "source": [
    "## Introducción a ROS1\n",
    "\n",
    "- Objetivo: comprender el funcionamiento y las características preliminares de ROS1\n",
    "\n",
    "\n",
    "- Procedimiento:\n",
    " 1. ROS - Master\n",
    " 2. ROS - Node operations\n",
    " 3. ROS - Topic operations\n",
    " 4. ROS - Launch\n",
    " 5. ROS - Demo"
   ]
  },
  {
   "cell_type": "markdown",
   "metadata": {},
   "source": [
    "<img src=\"imag/ROSArq.png\" width=400 height=400 />"
   ]
  },
  {
   "cell_type": "markdown",
   "metadata": {},
   "source": [
    "### CommandLine\n",
    "\n",
    "- `roscore`: inicia el ROS-Master, el servidor de parámetros y el nodo de logging.\n",
    "```bash\n",
    "$ roscore\n",
    "```\n",
    "- `rosnode`: comando que explora características de los nodos. Cada comando tiene una serie de modificadores o atributos que permiten realizar operaciones. Para identificar todos los atributos disponibles, se utiliza el modificador `-h` signficado \"*help*\"\n",
    "  \n",
    "  - **Ej**. Listar los nodos activos.\n",
    "```bash\n",
    "$ rosnode list\n",
    "```\n",
    "\n",
    "- `rostopic`: comando que provee información de los *topics* activos.\n",
    "\n",
    "  - **Ej.** Listar *topics* activos.\n",
    "```bash\n",
    "$ rostopic list\n",
    "```\n",
    "  - **Ej**. Imprimir información del *topic*.\n",
    "```bash\n",
    "$ rostopic echo /<topic_name>\n",
    "```\n",
    "  - **Ej.** Publicar información en un *topic*.\n",
    "```bash\n",
    "$ rostopic pub <topic_name> <msg_type> data\n",
    "$ rostopic pub /hello std_msgs/String \"Hello\"\n",
    "```\n",
    "```bash\n",
    "$ rostopic pub -1 /hello std_msgs/String \"Hello\"\n",
    "$ rostopic pub /hello std_msgs/String -r1 -- \"Hello\"\n",
    "```\n",
    "\n",
    "- `rosmsg`: comando que provee información sobre los tipos de mensajes.\n",
    "  - **Ej.** mensaje tipo *string*.\n",
    "```bash\n",
    "$ rosmsg show std_msgs/String\n",
    "```\n",
    "  - **Ej.** mensaje tipo *Twist*.\n",
    "```bash\n",
    "$ rosmsg show geometry_msgs/Twist\n",
    "```\n",
    "\n",
    "- `rosrun`: comando que permite ejecutar nodos\n",
    "```bash\n",
    "$ rosrun <ros_pkg_name> <ros_node_name>\n",
    "$ rosrun roscpp_tutorials talker\n",
    "``` \n",
    "\n",
    "- `rqt_graph`: nodo que construye un gráfico de los *topic* y *node* activos.\n",
    "```bash\n",
    "$ rqt_graph\n",
    "```"
   ]
  },
  {
   "cell_type": "markdown",
   "metadata": {},
   "source": [
    "### ROS Demo (Talker and Listener)\n",
    "\n",
    "- Iniciar ROS Master.\n",
    "```bash\n",
    "$ roscore\n",
    "```\n",
    "\n",
    "- Ejecutar nodos.\n",
    "\n",
    "  - Iniciar el nodo \"talker\"\n",
    "```bash\n",
    "$ rosrun roscpp_tutorials talker\n",
    "```\n",
    "  - Ejecutar  el nodo \"listener\"\n",
    "```bash\n",
    "$ rosrun roscpp_tutorials listener\n",
    "```\n",
    "\n",
    "- Ejecutar comandos para *topics*\n",
    "```bash\n",
    "$ rostopic list\n",
    "```"
   ]
  },
  {
   "cell_type": "markdown",
   "metadata": {},
   "source": [
    "### ROS Demo (Turtlesim)\n",
    "\n",
    "- Iniciar ROS Master.\n",
    "```bash\n",
    "$ roscore\n",
    "```\n",
    "\n",
    "- Ejecutar nodos.\n",
    "\n",
    "  - Iniciar el nodo \"turtlesim_node\"\n",
    "```bash\n",
    "$ rosrun turtlesim turtlesim_node\n",
    "```\n",
    "  - Ejecutar el nodo \"teleop\"\n",
    "```bash\n",
    "$ rosrun turtlesim turtle_teleop_key\n",
    "```\n",
    "  - Ejecutar el nodo \"movimiento autónomo\"\n",
    "```bash\n",
    "$ rosrun turtlesim draw_square\n",
    "```\n",
    "\n",
    "- Ejecutar comandos para *topics*\n",
    "```bash\n",
    "$ rostopic list\n",
    "```\n",
    "```bash\n",
    "$ rostopic pub -1 /turtle1/cmd_vel geometry_msgs/Twist '[2.0,0.0,0.0]' '[0.0,0.0,1.0]'\n",
    "$ rostopic pub /turtle1/cmd_vel geometry_msgs/Twist -r1 -- '[2.0,0.0,0.0]' '[0.0,0.0,1.0]'\n",
    "```\n",
    "\n",
    "- Ejecutar el nodo \"*Graph*\"\n",
    "```bash\n",
    "$ rosrun rqt_graph rqt_graph\n",
    "```"
   ]
  },
  {
   "cell_type": "markdown",
   "metadata": {},
   "source": [
    "## Referencias\n",
    "\n",
    "- Understanding ROS Nodes: http://wiki.ros.org/ROS/Tutorials/UnderstandingNodes\n",
    "\n",
    "- Understanding ROS Topics: http://wiki.ros.org/ROS/Tutorials/UnderstandingTopics\n",
    "\n",
    "- Lentin Joseph, Robot Operating System (ROS) for Absolute Beginners, Apress. 2018.\n",
    "\n",
    "- Ramkumar Gandhinathan, Lentin Joseph, ROS Robotics Projects, 2ed, Packt, 2019.\n",
    "\n",
    "- Morgan Quigley, Brian Gerkey, and William D. Smart., Programming Robots with ROS, O’ Reilly Media, Inc., 2016."
   ]
  }
 ],
 "metadata": {
  "kernelspec": {
   "display_name": "Python 3 (ipykernel)",
   "language": "python",
   "name": "python3"
  },
  "language_info": {
   "codemirror_mode": {
    "name": "ipython",
    "version": 3
   },
   "file_extension": ".py",
   "mimetype": "text/x-python",
   "name": "python",
   "nbconvert_exporter": "python",
   "pygments_lexer": "ipython3",
   "version": "3.9.7"
  }
 },
 "nbformat": 4,
 "nbformat_minor": 4
}
